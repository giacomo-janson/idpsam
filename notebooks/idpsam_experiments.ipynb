{
  "cells": [
    {
      "cell_type": "markdown",
      "source": [
        "# IdpSAM notebook\n",
        "\n",
        "## About\n",
        "Welcome to the idpSAM Colab notebook. IdpSAM is a latent [diffusion model](https://en.wikipedia.org/wiki/Diffusion_model) to generate ensembles of 3D conformations of [intrinsically disordered peptides and proteins](https://en.wikipedia.org/wiki/Intrinsically_disordered_proteins) (IDPs).\n",
        "\n",
        "You can use this notebook to generate an ensemble for a custom peptide sequence. When running on Colab, make sure to use GPU support (via `Edit` -> `Notebook settings`), otherwise the generation process will be significantly slower if you plan to generate large ensembles (> 1000 conformations).\n",
        "\n",
        "IdpSAM was trained on data from Markov Chain Monte Carlo simulations of intrinsically disordered peptides (their sequence was obtained from [DisProt](https://www.disprot.org)). The simulations were carried out using [ABSINTH](https://pubmed.ncbi.nlm.nih.gov/18506808/), an [implicit solvent model](https://en.wikipedia.org/wiki/Implicit_solvation), implemented in the [CAMPARI 4.0](https://campari.sourceforge.net/V4/index.html) package.\n",
        "\n",
        "NOTE: please be aware that the simulation protocol that we used contains numerous approximations and so the ensembles generated via idpSAM are likely only rough approximations of experimental ensembles!\n",
        "\n",
        "## Usage\n",
        "\n",
        "The notebook has three sections:\n",
        " 1. **Setup**: you must run this section install the dependencies on Colab.\n",
        " 2. **Input**: define the sequence of the peptide you want to model and choose option for idpSAM.\n",
        " 3. **Run idpSAM**: actually run the model and generate an ensemble.\n",
        " 4. **Analyze results**: visualize some properties of the ensemble (it's actually an optional section).\n",
        " 5. **Download results**: download the structural ensemble that you generated.\n",
        "\n",
        "## More information\n",
        "For more details on idpSAM and its training data, please refer to: [Transferable deep generative modeling of intrinsically disordered protein conformations](https://www.biorxiv.org/content/ADD_CORRECT_URL).\n",
        "\n",
        "For its source code, see: [idpSAM GitHub repository](https://github.com/giacomo-janson/idpsam)."
      ],
      "metadata": {
        "id": "A61GJhoF75yG"
      }
    },
    {
      "cell_type": "markdown",
      "source": [
        "---\n",
        "\n",
        "# 1 - Setup"
      ],
      "metadata": {
        "id": "wmyxk3FIH2EN"
      }
    },
    {
      "cell_type": "code",
      "execution_count": null,
      "metadata": {
        "id": "ep1lACWGNB7R",
        "cellView": "form"
      },
      "outputs": [],
      "source": [
        "#@title Install dependencies\n",
        "\n",
        "#@markdown Run this cell to install all the required dependencies for idpSAM. The installation will take place in the Colab notebook in the cloud. The whole process might take some minutes.\n",
        "\n",
        "import os\n",
        "import shutil\n",
        "import subprocess\n",
        "import torch\n",
        "import matplotlib.pyplot as plt\n",
        "from matplotlib import colors, colormaps\n",
        "\n",
        "\n",
        "os.environ[\"RUNNING_ON_COLAB\"] = \"1\"\n",
        "use_cg2all = True\n",
        "install_steps = 4\n",
        "cg2all_device = \"cpu\"\n",
        "\n",
        "def install(cmd):\n",
        "    o = subprocess.run(cmd, capture_output=True)\n",
        "\n",
        "print(\"# Starting the installation process on the Colab cloud environment...\")\n",
        "\n",
        "# Install the SAM package.\n",
        "print(f\"- Installing the sam library (step 1/{install_steps}).\")\n",
        "if os.path.isdir(\"idpsam\"):\n",
        "    shutil.rmtree(\"idpsam\")\n",
        "install([\"git\", \"clone\", \"https://github.com/giacomo-janson/idpsam.git\"])\n",
        "os.chdir(\"idpsam\")\n",
        "install([\"pip\", \"install\", \".\"])\n",
        "os.chdir(\"..\")\n",
        "\n",
        "# Install other dependencies.\n",
        "print(f\"- Installing the diffusers library (step 2/{install_steps}).\")\n",
        "install([\"pip\", \"install\", \"--upgrade\", \"diffusers[torch]\"])\n",
        "\n",
        "print(f\"- Installing the nglview library (step 3/{install_steps}).\")\n",
        "install([\"pip\", \"install\", \"nglview\"])\n",
        "\n",
        "# Install cg2all or mdtraj.\n",
        "if not use_cg2all:\n",
        "    print(f\"- Installing the mdtraj library (step 4/{install_steps}).\")\n",
        "    install([\"pip\", \"install\", \"mdtraj\"])\n",
        "else:\n",
        "    print(f\"- Installing cg2all (step 4/{install_steps}).\")\n",
        "    install([\"pip\", \"install\", \"-q\", \"git+http://github.com/huhlim/cg2all\"])\n",
        "\n",
        "print(\"- Done.\")"
      ]
    },
    {
      "cell_type": "markdown",
      "source": [
        "---\n",
        "\n",
        "# 2 - Input\n",
        "\n",
        "Use this section to specify the input sequence and options for idpSAM."
      ],
      "metadata": {
        "id": "l5tIGcqzFBj9"
      }
    },
    {
      "cell_type": "code",
      "source": [
        "#@title Enter the amino acid sequence\n",
        "name = \"Q9EP54\"  #@param {type:\"string\"}\n",
        "sequence = \"MACYPVNIRARGLGKNMGMKSRGRGKG\"  #@param {type:\"string\"}\n",
        "\n",
        "#@markdown Note: this version of idpSAM was trained with peptides with lengths between 12 and 60 amino acids. Therefore the model will likely produce bad results (e.g.: bad chain geometry and incorrect interaction patterns) for peptides with lengths significantly out of this range.\n",
        "\n",
        "# Check input.\n",
        "if not re.match(r'^[a-zA-Z0-9_-]*$', name):\n",
        "    del name\n",
        "    raise ValueError(\"Names can contain only the following characters: a-z A-Z 0-9 _ -\")\n",
        "if not re.match(r'^[QWERTYIPASDFGHKLCVNM]*$', sequence):\n",
        "    del sequence\n",
        "    raise ValueError(\"Sequences can contain only standard amino acid letters.\")"
      ],
      "metadata": {
        "cellView": "form",
        "id": "H02P6PzWIwb_"
      },
      "execution_count": null,
      "outputs": []
    },
    {
      "cell_type": "code",
      "execution_count": null,
      "metadata": {
        "id": "Lld612IXOBfD",
        "cellView": "form"
      },
      "outputs": [],
      "source": [
        "#@title Options\n",
        "\n",
        "from sam.model import SAM\n",
        "\n",
        "# Hidden options.\n",
        "config_fp = \"idpsam/config/models.yaml\"\n",
        "out_dp = \"output\"\n",
        "out_path = os.path.join(out_dp, \"pept\")\n",
        "\n",
        "device = \"cuda\" if torch.cuda.is_available() else \"cpu\"\n",
        "\n",
        "# User-defined.\n",
        "#@markdown Number of conformations to generate:\n",
        "n_samples = 1000 # @param {type:\"integer\"}\n",
        "#@markdown Number of diffusion steps in the generation process (min=1, max=1000):\n",
        "n_steps = 100 #@param {type:\"integer\"}\n",
        "#@markdown Batch size:\n",
        "batch_size = 500 #@param {type:\"integer\"}\n",
        "#@markdown Reconstruct all-atom details from C-alpha conformations via the [cg2all model](https://github.com/huhlim/cg2all/tree/main):\n",
        "if use_cg2all:\n",
        "    all_atom = True #@param {type:\"boolean\"}\n",
        "else:\n",
        "    all_atom = False\n"
      ]
    },
    {
      "cell_type": "markdown",
      "source": [
        "### More information about the options"
      ],
      "metadata": {
        "id": "QlQWApvxaVKL"
      }
    },
    {
      "cell_type": "markdown",
      "source": [
        "* `n_samples`: number of statistically independent C-alpha conformations to generate with idpSAM. For peptides with lengths below 50 residues, 5000 samples probably describe very well the entire conformational ensemble. For most applications, if you generate more samples you will not get much more information.\n",
        "* `n_steps`: number of diffusion steps in the sampling process of the [denoising diffusion probabilistic model](https://arxiv.org/abs/2006.11239) of idpSAM. The lower the number, the faster the generative process is going to be. The default value is 100, which we found to work well empirically. A value of 50 will also probably work well and sampling will be faster. But we found that going under 10 steps will result in bad results (see above for a definition of bad).\n",
        "* `batch_size`: batch size for all the neural network models used in this notebook. Ideally, larger values will result in faster sampling (since more conformations will be processed in parallel in the same batch). However, using values being too high will result in out-of-memory errors on Colab, especially when using a GPU. For idpSAM, memory consumptions is roughly quadratic with protein length, so for smaller sequences you can safely use larger batch sizes.\n",
        "* `all_atom`: when this option is used, the [cg2all model](https://github.com/huhlim/cg2all/tree/main) will convert the C-alpha conformations from idpSAM to all-atom structures."
      ],
      "metadata": {
        "id": "9tlbSEgMafx2"
      }
    },
    {
      "cell_type": "markdown",
      "source": [
        "---\n",
        "\n",
        "# 3 - Run idpSAM"
      ],
      "metadata": {
        "id": "f99ua1JNFrxr"
      }
    },
    {
      "cell_type": "code",
      "execution_count": null,
      "metadata": {
        "id": "m6dv2St93Kzo",
        "cellView": "form"
      },
      "outputs": [],
      "source": [
        "#@title Initialize idpSAM\n",
        "\n",
        "#@markdown Run this cell to load a pre-trained idpSAM model.\n",
        "\n",
        "# Initialize the idpSAM model.\n",
        "idpsam = SAM(config_fp=config_fp,\n",
        "             device=device,\n",
        "             weights_parent_path=\"idpsam\",\n",
        "             verbose=True)"
      ]
    },
    {
      "cell_type": "code",
      "source": [
        "#@title Generate C-alpha conformations\n",
        "\n",
        "#@markdown Run this cell to actually generate conformations!\n",
        "\n",
        "#@markdown Note: if you are using CPUs it will probably take tens of minutes with the default options of this notebook.\n",
        "\n",
        "# Generate C-alpha conformations.\n",
        "out_data = idpsam.sample(\n",
        "    seq=sequence,\n",
        "    n_samples=n_samples,\n",
        "    n_steps=n_steps,\n",
        "    batch_size_eps=batch_size,\n",
        "    return_enc=False,\n",
        "    prot_name=name,\n",
        "    out_type=\"numpy\")\n",
        "\n",
        "# Create the output directory.\n",
        "if not os.path.isdir(out_dp):\n",
        "    os.mkdir(out_dp)\n",
        "\n",
        "# Save the conformations.\n",
        "save_data = idpsam.save(\n",
        "    out=out_data,\n",
        "    out_path=out_path,\n",
        "    out_fmt=\"dcd\")"
      ],
      "metadata": {
        "cellView": "form",
        "id": "bT2ajGo0FuUm"
      },
      "execution_count": null,
      "outputs": []
    },
    {
      "cell_type": "code",
      "source": [
        "#@title Optional: build all-atom structures\n",
        "#@markdown This will be run only if you checked the `all_atom` option.\n",
        "\n",
        "if all_atom:\n",
        "    cg2all_data = idpsam.cg2all(\n",
        "        ca_pdb_fp=save_data[\"ca_pdb\"],\n",
        "        ca_traj_fp=save_data[\"ca_dcd\"],\n",
        "        out_path=out_path,\n",
        "        batch_size=batch_size,\n",
        "        device=cg2all_device)\n",
        "else:\n",
        "    print(\"# Will not build all-atom structures.\")"
      ],
      "metadata": {
        "cellView": "form",
        "id": "JGxReK1RfHWD"
      },
      "execution_count": null,
      "outputs": []
    },
    {
      "cell_type": "markdown",
      "source": [
        "---\n",
        "\n",
        "# 4 - Analyze results\n",
        "\n",
        "In this section you can quickly analyze some quick properties of the ensemble you generated."
      ],
      "metadata": {
        "id": "D8Qk7dQ-_w-f"
      }
    },
    {
      "cell_type": "code",
      "source": [
        "#@title Carbon alpha properties of the ensemble\n",
        "\n",
        "#@markdown **Run the analysis**\n",
        "\n",
        "import mdtraj\n",
        "import numpy as np\n",
        "from sam.coords import calc_dmap, calc_dmap_triu, torch_chain_dihedrals\n",
        "import sklearn.decomposition\n",
        "\n",
        "print(\"# Analyzing...\")\n",
        "\n",
        "traj = mdtraj.load(save_data[\"ca_dcd\"], top=save_data[\"ca_pdb\"])\n",
        "prot_data = {}\n",
        "\n",
        "# PCA.\n",
        "print(\"- Performing PCA\")\n",
        "dt = calc_dmap_triu(traj.xyz, backend=\"numpy\")\n",
        "pca = sklearn.decomposition.PCA(n_components=10)\n",
        "pca.fit(dt)\n",
        "prot_data[\"pca\"] = pca.transform(dt)\n",
        "\n",
        "# Distance map.\n",
        "dmap = calc_dmap(traj.xyz, backend=\"numpy\")\n",
        "diag_indices = np.diag_indices(dmap.shape[2])\n",
        "tril_indices = np.tril_indices(dmap.shape[2])\n",
        "prot_data[\"dmap\"] = dmap.mean(axis=0)\n",
        "# prot_data[prot_name][\"dmap\"][0, diag_indices[0], diag_indices[1]] = np.nan\n",
        "prot_data[\"dmap\"][0, tril_indices[0], tril_indices[1]] = np.nan\n",
        "\n",
        "# Contact map.\n",
        "prot_data[\"cmap\"] = np.sum(dmap <= 0.8, axis=0)/dmap.shape[0]\n",
        "# prot_data[prot_name][\"cmap\"][0, diag_indices[0], diag_indices[1]] = np.nan\n",
        "prot_data[\"cmap\"][0, tril_indices[0], tril_indices[1]] = np.nan\n",
        "\n",
        "# Rg\n",
        "print(\"- Computing Rg\")\n",
        "prot_data[\"rg\"] = mdtraj.compute_rg(traj)\n",
        "\n",
        "# a torsions.\n",
        "print(\"- Computing alpha torsions\")\n",
        "prot_data[\"tors\"] = torch_chain_dihedrals(traj.xyz, backend=\"numpy\").ravel()"
      ],
      "metadata": {
        "cellView": "form",
        "id": "wUBav-nH9dS1"
      },
      "execution_count": null,
      "outputs": []
    },
    {
      "cell_type": "code",
      "source": [
        "#@markdown **Visualize properties**\n",
        "\n",
        "ax_title_size = 9\n",
        "ax_label_size = 8  # 7.5\n",
        "colorbar_shrink = 0.9\n",
        "linewidth = 1.5\n",
        "\n",
        "fig, ax = plt.subplots(1, 5,\n",
        "                       layout='constrained',\n",
        "                       figsize=(9.5, 1.85),\n",
        "                       dpi=180)\n",
        "\n",
        "##################\n",
        "# PCA histogram. #\n",
        "##################\n",
        "\n",
        "pc_dim_x = 0\n",
        "pc_dim_y = 1\n",
        "n_pca_bins = 20\n",
        "ax[0].set_title(\"PCA of distances\", fontsize=ax_title_size)\n",
        "ax[0].set_xlabel(f\"PC {pc_dim_x+1}\", fontsize=ax_label_size)\n",
        "ax[0].set_ylabel(f\"PC {pc_dim_y+1}\", fontsize=ax_label_size)\n",
        "ax[0].tick_params(axis='both', labelsize=ax_label_size)\n",
        "\n",
        "if n_samples >= 100:\n",
        "    hist = ax[0].hist2d(prot_data[\"pca\"][:,pc_dim_x],\n",
        "                        prot_data[\"pca\"][:,pc_dim_y],\n",
        "                        cmap=\"magma\", bins=n_pca_bins,\n",
        "                        norm=colors.LogNorm(), density=True)\n",
        "    cbar = fig.colorbar(hist[-1], ax=ax[0])\n",
        "    cbar.set_label(\"Density\", fontsize=ax_label_size-1)\n",
        "    cbar.ax.tick_params(labelsize=ax_label_size-1)\n",
        "else:\n",
        "    ax[0].scatter(prot_data[\"pca\"][:,pc_dim_x],\n",
        "                  prot_data[\"pca\"][:,pc_dim_y],\n",
        "                  marker=\".\")\n",
        "\n",
        "################\n",
        "# Contact map. #\n",
        "################\n",
        "\n",
        "ax[1].set_title(r\"C$\\alpha$-C$\\alpha$ contact map\", fontsize=ax_title_size)\n",
        "cmap_min = -3.5  # 3\n",
        "cmap = colormaps.get_cmap(\"Spectral_r\")\n",
        "norm = colors.Normalize(cmap_min, 0)\n",
        "log_func = np.log10\n",
        "pseudo_c = 1e-12\n",
        "_cmap = log_func(prot_data[\"cmap\"][0] + pseudo_c)\n",
        "cmap_im = ax[1].imshow(_cmap,cmap=cmap, norm=norm,\n",
        "                       aspect=\"equal\")\n",
        "max_ticks = 3\n",
        "ax[1].xaxis.set_major_locator(plt.MaxNLocator(max_ticks))\n",
        "ax[1].yaxis.set_major_locator(plt.MaxNLocator(max_ticks))\n",
        "ax[1].tick_params(axis='both', labelsize=ax_label_size)\n",
        "\n",
        "cmap_cbar = fig.colorbar(\n",
        "    cmap_im, ax=ax[1],\n",
        "    location=\"right\",\n",
        "    shrink=colorbar_shrink,\n",
        ")\n",
        "cmap_cbar.set_label(r'$log_{10}(p_{ij})$',\n",
        "                    fontsize=ax_label_size-1)\n",
        "cmap_cbar.ax.tick_params(labelsize=ax_label_size-1)\n",
        "\n",
        "#################\n",
        "# Distance map. #\n",
        "#################\n",
        "\n",
        "ax[2].set_title(r\"C$\\alpha$-C$\\alpha$ distances\", fontsize=ax_title_size)\n",
        "dmap_im = ax[2].imshow(prot_data[\"dmap\"][0],\n",
        "                       cmap=colormaps.get_cmap(\"viridis\"))\n",
        "ax[2].xaxis.set_major_locator(plt.MaxNLocator(max_ticks))\n",
        "ax[2].yaxis.set_major_locator(plt.MaxNLocator(max_ticks))\n",
        "ax[2].set_yticklabels([])\n",
        "ax[2].tick_params(axis='both', labelsize=ax_label_size)\n",
        "\n",
        "cbar = fig.colorbar(dmap_im, ax=ax[2], location=\"right\",\n",
        "                    shrink=colorbar_shrink)\n",
        "cbar.set_label(r\"Average $d_{ij}$ [nm]\",\n",
        "               fontsize=ax_label_size-1)\n",
        "cbar.ax.tick_params(labelsize=ax_label_size)\n",
        "\n",
        "#################\n",
        "# Rg histogram. #\n",
        "#################\n",
        "\n",
        "n_rg_bins = 35\n",
        "\n",
        "ax[3].set_title(r\"$R_g$ (mean={:.2f} nm)\".format(prot_data[\"rg\"].mean()),\n",
        "                fontsize=ax_title_size)\n",
        "rg_h_r = ax[3].hist(prot_data[\"rg\"],\n",
        "                    bins=np.linspace(0.4, 2.2, n_rg_bins+1),\n",
        "                    histtype=\"step\", density=True,\n",
        "                    linewidth=linewidth)\n",
        "ax[3].set_xlabel(r\"C$\\alpha$ $R_g$ [nm]\", fontsize=ax_label_size)\n",
        "ax[3].set_ylabel(\"Density\", fontsize=ax_label_size)\n",
        "ax[3].tick_params(axis='both', labelsize=ax_label_size)\n",
        "\n",
        "#########################\n",
        "# a torsions histogram. #\n",
        "#########################\n",
        "\n",
        "n_tors_bins = 35\n",
        "\n",
        "ax[4].set_title(r\"$\\alpha$ angles\", fontsize=ax_title_size)\n",
        "ax[4].hist(prot_data[\"tors\"],\n",
        "    bins=np.linspace(-np.pi, np.pi, n_tors_bins+1),\n",
        "    histtype=\"step\", density=True,\n",
        "    linewidth=linewidth)\n",
        "ax[4].set_xlabel(r\"$\\alpha$ angle [radians]\", fontsize=ax_label_size)\n",
        "ax[4].set_ylabel(\"Density\", fontsize=ax_label_size)\n",
        "ax[4].set_xticks([-np.pi, 0, np.pi])\n",
        "ax[4].tick_params(axis='both', labelsize=ax_label_size)\n",
        "# ax[4].set_aspect(\"equal\")\n",
        "\n",
        "# plt.tight_layout()\n",
        "plt.show()"
      ],
      "metadata": {
        "cellView": "form",
        "id": "XN9RQq_bDrA2"
      },
      "execution_count": null,
      "outputs": []
    },
    {
      "cell_type": "code",
      "source": [
        "#@markdown **Visualize 3D structures**\n",
        "\n",
        "import nglview\n",
        "from google.colab import output\n",
        "output.enable_custom_widget_manager()\n",
        "\n",
        "#@markdown Select the index of the conformation to visualize:\n",
        "snapshot_id = 50 # @param {type:\"integer\"}\n",
        "\n",
        "traj.center_coordinates()\n",
        "view = nglview.show_mdtraj(traj[snapshot_id])\n",
        "view.add_spacefill(color=\"residueindex\")\n",
        "view"
      ],
      "metadata": {
        "cellView": "form",
        "id": "TyrHQ_C6Tr2F"
      },
      "execution_count": null,
      "outputs": []
    },
    {
      "cell_type": "code",
      "source": [
        "#@title Optional: all-atom properties of the ensemble\n",
        "#@markdown **Run the analysis**\n",
        "\n",
        "if all_atom:\n",
        "\n",
        "    import mdtraj\n",
        "    import numpy as np\n",
        "    from sam.coords import calc_dmap, calc_dmap_triu, torch_chain_dihedrals\n",
        "    import sklearn.decomposition\n",
        "\n",
        "    print(\"# Analyzing...\")\n",
        "\n",
        "    aa_traj = mdtraj.load(cg2all_data[\"aa_dcd\"],\n",
        "                          top=cg2all_data[\"aa_top\"])\n",
        "    aa_prot_data = {}\n",
        "\n",
        "    # Rg\n",
        "    print(\"- Computing Rg\")\n",
        "    aa_prot_data[\"rg\"] = mdtraj.compute_rg(aa_traj)\n",
        "\n",
        "    # DSSP.\n",
        "    print(\"- Computing backbone properties\")\n",
        "    aa_prot_data[\"phi\"] = mdtraj.compute_phi(aa_traj)\n",
        "    aa_prot_data[\"psi\"] = mdtraj.compute_psi(aa_traj)\n",
        "    aa_prot_data[\"dssp\"] = mdtraj.compute_dssp(aa_traj)\n",
        "\n",
        "else:\n",
        "    print(\"# Will not analyze all-atom properties.\")"
      ],
      "metadata": {
        "cellView": "form",
        "id": "FYskUVaM9dCO"
      },
      "execution_count": null,
      "outputs": []
    },
    {
      "cell_type": "code",
      "source": [
        "#@markdown **Visualize properties**\n",
        "\n",
        "if all_atom:\n",
        "\n",
        "    ax_title_size = 9\n",
        "    ax_label_size = 8  # 7.5\n",
        "    colorbar_shrink = 0.9\n",
        "    linewidth = 1.5\n",
        "\n",
        "    fig, ax = plt.subplots(1, 3,\n",
        "                           layout='constrained',\n",
        "                           figsize=(6.5, 1.85),\n",
        "                           dpi=180)\n",
        "\n",
        "    #############################\n",
        "    # Rg vs helicity histogram. #\n",
        "    #############################\n",
        "\n",
        "    n_rgh_bins = 20\n",
        "    ax[0].set_title(r\"$R_g$ vs helicity\", fontsize=ax_title_size)\n",
        "    ax[0].set_xlabel(r\"$R_g$ [nm]\", fontsize=ax_label_size)\n",
        "    ax[0].set_ylabel(\"Helicity fraction\", fontsize=ax_label_size)\n",
        "    ax[0].tick_params(axis='both', labelsize=ax_label_size)\n",
        "\n",
        "    helicity = np.mean(aa_prot_data[\"dssp\"] == \"H\", axis=1)\n",
        "    if n_samples >= 100:\n",
        "        hist = ax[0].hist2d(aa_prot_data[\"rg\"], helicity,\n",
        "                            cmap=\"magma\", bins=n_rgh_bins,\n",
        "                            norm=colors.LogNorm(), density=True)\n",
        "        cbar = fig.colorbar(hist[-1], ax=ax[0])\n",
        "        cbar.set_label(\"Density\", fontsize=ax_label_size-1)\n",
        "        cbar.ax.tick_params(labelsize=ax_label_size-1)\n",
        "    else:\n",
        "        ax[0].scatter(aa_prot_data[\"rg\"][:,pc_dim_x],\n",
        "                      helicity,\n",
        "                      marker=\".\")\n",
        "\n",
        "    ######################\n",
        "    # Ramachandran plot. #\n",
        "    ######################\n",
        "\n",
        "    rama_bins = 50\n",
        "    rama_linspace = np.linspace(-np.pi, np.pi, rama_bins)\n",
        "    ax[1].set_title(r\"Ramachandran plot\", fontsize=ax_title_size)\n",
        "    ax[1].set_xlabel(r\"phi [radians]\", fontsize=ax_label_size)\n",
        "    ax[1].set_ylabel(\"psi [radians]\", fontsize=ax_label_size)\n",
        "    ax[1].tick_params(axis='both', labelsize=ax_label_size)\n",
        "\n",
        "    hist = ax[1].hist2d(aa_prot_data[\"phi\"][1].ravel(),\n",
        "                        aa_prot_data[\"psi\"][1].ravel(),\n",
        "                        cmap=\"viridis\", bins=(rama_linspace, rama_linspace),\n",
        "                        norm=colors.LogNorm(), density=True)\n",
        "    cbar = fig.colorbar(hist[-1], ax=ax[1])\n",
        "    cbar.set_label(\"Density\", fontsize=ax_label_size-1)\n",
        "    cbar.ax.tick_params(labelsize=ax_label_size-1)\n",
        "\n",
        "    ################################\n",
        "    # Secondary structure profile. #\n",
        "    ################################\n",
        "\n",
        "    ax[2].set_title(r\"DSSP states\", fontsize=ax_title_size)\n",
        "    for state, label in ((\"H\", \"helix\"), (\"E\", \"strand\"), (\"C\", \"coil\")):\n",
        "        ax[2].plot(np.arange(1, len(sequence)+1),\n",
        "                   np.mean(aa_prot_data[\"dssp\"] == state, axis=0), label=label)\n",
        "    ax[2].legend(fontsize=ax_label_size-2)\n",
        "    ax[2].set_xlabel(\"Residue index\", fontsize=ax_label_size)\n",
        "    ax[2].set_ylabel(\"Frequency\", fontsize=ax_label_size)\n",
        "\n",
        "    plt.show()"
      ],
      "metadata": {
        "cellView": "form",
        "id": "j12YV7FHf7GQ"
      },
      "execution_count": null,
      "outputs": []
    },
    {
      "cell_type": "markdown",
      "source": [
        "---\n",
        "\n",
        "# 5 - Download results"
      ],
      "metadata": {
        "id": "wxZ3Teou_wy5"
      }
    },
    {
      "cell_type": "code",
      "source": [
        "#@title Download dcd files with the generated ensembles\n",
        "\n",
        "#@markdown Run this cell to download a ZIP file containing the DCD\n",
        "\n",
        "from google.colab import files\n",
        "\n",
        "print(\"- Compressing the results in a ZIP file.\")\n",
        "!zip -r idpsam_results.zip output &> /dev/null\n",
        "files.download(\"idpsam_results.zip\")"
      ],
      "metadata": {
        "id": "cfwV7VI-Bhc7",
        "cellView": "form"
      },
      "execution_count": null,
      "outputs": []
    }
  ],
  "metadata": {
    "colab": {
      "provenance": [],
      "collapsed_sections": [
        "QlQWApvxaVKL"
      ]
    },
    "kernelspec": {
      "display_name": "Python 3",
      "name": "python3"
    },
    "language_info": {
      "name": "python"
    }
  },
  "nbformat": 4,
  "nbformat_minor": 0
}